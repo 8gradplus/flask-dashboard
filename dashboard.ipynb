{
 "cells": [
  {
   "cell_type": "code",
   "execution_count": 2,
   "id": "8ec06710",
   "metadata": {},
   "outputs": [],
   "source": [
    "import pandas as pd\n"
   ]
  },
  {
   "cell_type": "code",
   "execution_count": 13,
   "id": "8863c18d",
   "metadata": {},
   "outputs": [
    {
     "name": "stderr",
     "output_type": "stream",
     "text": [
      "/var/folders/lc/cphzd5d55kv1qc87thjwwb6c0000gn/T/ipykernel_4135/666946147.py:4: FutureWarning: Using short name for 'orient' is deprecated. Only the options: ('dict', list, 'series', 'split', 'records', 'index') will be used in a future version. Use one of the above to silence this warning.\n",
      "  summary.to_dict(orient='record')\n"
     ]
    },
    {
     "data": {
      "text/plain": [
       "[{'key': 'Company', 'value': 'Google'},\n",
       " {'key': 'Domain', 'value': 'www.google.com'},\n",
       " {'key': 'Value', 'value': '1000 mEuro'},\n",
       " {'key': 'Quality', 'value': 'Good'},\n",
       " {'key': 'Date', 'value': '2023-2-14'},\n",
       " {'key': 'Another Date', 'value': '2020-6-13'}]"
      ]
     },
     "execution_count": 13,
     "metadata": {},
     "output_type": "execute_result"
    }
   ],
   "source": [
    "summary = pd.DataFrame({\"key\": [\"Company\", \"Domain\", \"Value\", \"Quality\", \"Date\", \"Another Date\"],\n",
    "                            \"value\": [\"Google\", \"www.google.com\", \"1000 mEuro\", \"Good\", \"2023-2-14\", \"2020-6-13\"]})\n",
    "\n",
    "summary.to_dict(orient='record')"
   ]
  },
  {
   "cell_type": "code",
   "execution_count": 5,
   "id": "d4cfe0d4",
   "metadata": {},
   "outputs": [],
   "source": [
    "df = pd.DataFrame({\"rating\": [1, 2, 3, 4, 5],\n",
    "                \"counts\": [16, 43, 89, 32, 22]})"
   ]
  },
  {
   "cell_type": "code",
   "execution_count": 15,
   "id": "ab967200",
   "metadata": {},
   "outputs": [
    {
     "data": {
      "text/plain": [
       "[0,\n",
       " 1,\n",
       " 2,\n",
       " 3,\n",
       " 4,\n",
       " 5,\n",
       " 6,\n",
       " 7,\n",
       " 8,\n",
       " 9,\n",
       " 10,\n",
       " 11,\n",
       " 12,\n",
       " 13,\n",
       " 14,\n",
       " 15,\n",
       " 16,\n",
       " 17,\n",
       " 18,\n",
       " 19,\n",
       " 20,\n",
       " 21,\n",
       " 22,\n",
       " 23,\n",
       " 24]"
      ]
     },
     "execution_count": 15,
     "metadata": {},
     "output_type": "execute_result"
    }
   ],
   "source": [
    "import numpy as np\n",
    "list(np.arange(25))"
   ]
  },
  {
   "cell_type": "code",
   "execution_count": null,
   "id": "8418abfe",
   "metadata": {},
   "outputs": [],
   "source": [
    "pandas"
   ]
  }
 ],
 "metadata": {
  "kernelspec": {
   "display_name": "Python 3 (ipykernel)",
   "language": "python",
   "name": "python3"
  },
  "language_info": {
   "codemirror_mode": {
    "name": "ipython",
    "version": 3
   },
   "file_extension": ".py",
   "mimetype": "text/x-python",
   "name": "python",
   "nbconvert_exporter": "python",
   "pygments_lexer": "ipython3",
   "version": "3.10.9"
  }
 },
 "nbformat": 4,
 "nbformat_minor": 5
}
